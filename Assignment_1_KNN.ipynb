{
  "cells": [
    {
      "cell_type": "markdown",
      "source": [
        "#**Image Classification**\n",
        "###Comparison of Manhattan (L1) and Euclidean (L2) Distances\n",
        "\n",
        "---"
      ],
      "metadata": {
        "id": "D-0oAZKbm9Ck"
      }
    },
    {
      "cell_type": "code",
      "source": [
        "from google.colab import drive\n",
        "drive.mount('/content/drive')"
      ],
      "metadata": {
        "colab": {
          "base_uri": "https://localhost:8080/"
        },
        "id": "mYmbZ8sMls34",
        "outputId": "ee995b3c-6ef7-4440-ee9a-3bcadc361c72"
      },
      "execution_count": 2,
      "outputs": [
        {
          "output_type": "stream",
          "name": "stdout",
          "text": [
            "Drive already mounted at /content/drive; to attempt to forcibly remount, call drive.mount(\"/content/drive\", force_remount=True).\n"
          ]
        }
      ]
    },
    {
      "cell_type": "markdown",
      "source": [],
      "metadata": {
        "id": "WPPxWxH8eOT0"
      }
    },
    {
      "cell_type": "markdown",
      "source": [
        "**Import necessary Libraries:**\n",
        "\n"
      ],
      "metadata": {
        "id": "0LnC9XJJolb0"
      }
    },
    {
      "cell_type": "code",
      "execution_count": 3,
      "metadata": {
        "id": "DQAdUAUdCiIb"
      },
      "outputs": [],
      "source": [
        "import os\n",
        "import math\n",
        "import cv2\n",
        "from tqdm import tqdm\n",
        "from matplotlib import pyplot as plt\n",
        "import random\n",
        "import numpy as np\n",
        "from IPython import display"
      ]
    },
    {
      "cell_type": "markdown",
      "metadata": {
        "id": "GyfxApuYhihO"
      },
      "source": [
        "Set Data Directory"
      ]
    },
    {
      "cell_type": "code",
      "execution_count": 4,
      "metadata": {
        "id": "rqBTHFk8CzhP"
      },
      "outputs": [],
      "source": [
        "DATA_DIR=\"/content/drive/MyDrive/input/animal-image-datasetdog-cat-and-panda/animals/animals\""
      ]
    },
    {
      "cell_type": "markdown",
      "metadata": {
        "id": "S2lKSel5hrFd"
      },
      "source": [
        "Load Catagories"
      ]
    },
    {
      "cell_type": "code",
      "execution_count": 5,
      "metadata": {
        "id": "IDNzds3KHJzl"
      },
      "outputs": [],
      "source": [
        "def load_image(DATA_DIR):\n",
        "  catagories=os.listdir(DATA_DIR)\n",
        "  return catagories"
      ]
    },
    {
      "cell_type": "markdown",
      "metadata": {
        "id": "OIjuCuh0h1Iu"
      },
      "source": [
        "Train Data Creation Function"
      ]
    },
    {
      "cell_type": "code",
      "execution_count": 6,
      "metadata": {
        "id": "OPaR_vs4HzlW"
      },
      "outputs": [],
      "source": [
        "def get_trained_data(catagories,data_dir):\n",
        "  trained_data=[]\n",
        "  for c in catagories:\n",
        "    new_path=os.path.join(data_dir,c)\n",
        "    for img in tqdm(os.listdir(new_path)):\n",
        "        label=catagories.index(c)\n",
        "        img_path=os.path.join(new_path,img)\n",
        "        try:\n",
        "          img_arr=cv2.imread(img_path,cv2.IMREAD_GRAYSCALE)\n",
        "          img_arr=cv2.resize(img_arr,(32,32))\n",
        "        except:\n",
        "          pass\n",
        "\n",
        "        trained_data.append([img_arr,label])\n",
        "\n",
        "  random.shuffle(trained_data)\n",
        "  return trained_data"
      ]
    },
    {
      "cell_type": "markdown",
      "metadata": {
        "id": "5IQ70heziP7N"
      },
      "source": [
        "Calculate Distance"
      ]
    },
    {
      "cell_type": "code",
      "execution_count": 7,
      "metadata": {
        "id": "B1UrEaGWVKb9"
      },
      "outputs": [],
      "source": [
        "def distance(train,valid):\n",
        "\n",
        "    return abs(train-valid)"
      ]
    },
    {
      "cell_type": "markdown",
      "metadata": {
        "id": "U1G_hS0SiR2-"
      },
      "source": [
        "KNN classifier Function"
      ]
    },
    {
      "cell_type": "code",
      "execution_count": 8,
      "metadata": {
        "id": "5v2Ckp42MoA1"
      },
      "outputs": [],
      "source": [
        "def KNN(validation_set,trained_set,k=5,L=1):\n",
        "  dist=[]\n",
        "  zindex=0\n",
        "  for v in tqdm(validation_set):\n",
        "\n",
        "      for t in trained_set:\n",
        "        if L==1:\n",
        "          z=distance(t[0],v[0])\n",
        "          d= np.sum(z)\n",
        "\n",
        "        elif L == 2:\n",
        "          z=distance(t[0],v[0])\n",
        "          d=np.sqrt(int(np.power(np.sum(distance(t[0],v[0])),2)))\n",
        "\n",
        "\n",
        "        labell=t[1]\n",
        "        dist.append([d,labell,v[1],v[0]])\n",
        "      zindex +=1\n",
        "  dist.sort(key=lambda x: x[0])\n",
        "  return dist[:k]"
      ]
    },
    {
      "cell_type": "markdown",
      "metadata": {
        "id": "pbKViqmZibH2"
      },
      "source": [
        "K-FOLD cross validation"
      ]
    },
    {
      "cell_type": "code",
      "execution_count": 9,
      "metadata": {
        "id": "T4Tqyaif4dY2"
      },
      "outputs": [],
      "source": [
        "def KFOLD(trained_set,kf=3,k_nei=3,L=1):\n",
        "  point_dict={k_nei:[]}\n",
        "  for i in range(kf):\n",
        "    accuracy=0\n",
        "    test=trained_set[i*(int(len(trained_set)/kf)):(i+1)*int(len(trained_set)/kf)]\n",
        "    first=trained_set[0:i*int(len(trained_set)/kf)]\n",
        "    last=trained_set[(i+1)*int(len(trained_set)/kf):]\n",
        "    trained=first+last\n",
        "    pred=KNN(test,trained,k_nei,L)\n",
        "    print(\"-\"*20)\n",
        "    print(\"FOLD-\",i+1)\n",
        "\n",
        "    for p in pred:\n",
        "      print(p[:3])\n",
        "      if(p[2] == p[1]):\n",
        "        accuracy +=1\n",
        "    final_acc=accuracy/k_nei\n",
        "    point_dict[k_nei].append(final_acc)\n",
        "    print(\"Accuracy: \",final_acc*100,\"%\")\n",
        "\n",
        "    print(\"-\"*20)\n",
        "  return point_dict\n",
        "\n",
        "\n",
        "\n",
        "\n",
        "\n",
        "\n"
      ]
    },
    {
      "cell_type": "markdown",
      "metadata": {
        "id": "M6DlRPnDigee"
      },
      "source": [
        "For showing Image from numpy image matrix"
      ]
    },
    {
      "cell_type": "code",
      "execution_count": 10,
      "metadata": {
        "id": "1VdgH0e_K83U"
      },
      "outputs": [],
      "source": [
        "def show_image(img_matrix,title):\n",
        "  plt.figure()\n",
        "  plt.title(title)\n",
        "  plt.imshow(img_matrix)\n",
        "  plt.show()\n"
      ]
    },
    {
      "cell_type": "markdown",
      "metadata": {
        "id": "Z7Pl6kSsin3U"
      },
      "source": [
        "Create Catagories & Generate Train Data"
      ]
    },
    {
      "cell_type": "code",
      "execution_count": 11,
      "metadata": {
        "colab": {
          "base_uri": "https://localhost:8080/"
        },
        "id": "HRg_XEuaHcXN",
        "outputId": "f5adcf1a-4349-407e-a236-e0993951343c"
      },
      "outputs": [
        {
          "output_type": "stream",
          "name": "stderr",
          "text": [
            "100%|██████████| 1000/1000 [00:40<00:00, 24.82it/s]\n",
            "100%|██████████| 1000/1000 [00:32<00:00, 30.34it/s]\n",
            "100%|██████████| 1000/1000 [00:32<00:00, 30.52it/s]\n"
          ]
        }
      ],
      "source": [
        "catag=load_image(DATA_DIR)\n",
        "trained_data=get_trained_data(catag,DATA_DIR)\n"
      ]
    },
    {
      "cell_type": "code",
      "source": [
        "random.shuffle(trained_data)"
      ],
      "metadata": {
        "id": "kYPwmnDzlKBh"
      },
      "execution_count": 12,
      "outputs": []
    },
    {
      "cell_type": "markdown",
      "metadata": {
        "id": "ep-ZmIdleuqG"
      },
      "source": [
        "For Each value of k of knn. And get point every K-Fold=5"
      ]
    },
    {
      "cell_type": "code",
      "execution_count": 13,
      "metadata": {
        "colab": {
          "base_uri": "https://localhost:8080/"
        },
        "id": "VVgC7kDkRx5g",
        "outputId": "bdd297a6-3033-4ebb-de20-d6868eb05638"
      },
      "outputs": [
        {
          "output_type": "stream",
          "name": "stdout",
          "text": [
            "---------- for Neigbour=3 ----------\n"
          ]
        },
        {
          "output_type": "stream",
          "name": "stderr",
          "text": [
            "100%|██████████| 600/600 [00:14<00:00, 40.10it/s]\n"
          ]
        },
        {
          "output_type": "stream",
          "name": "stdout",
          "text": [
            "--------------------\n",
            "FOLD- 1\n",
            "[np.uint64(54202), 1, 2]\n",
            "[np.uint64(55161), 2, 2]\n",
            "[np.uint64(56257), 0, 2]\n",
            "Accuracy:  33.33333333333333 %\n",
            "--------------------\n"
          ]
        },
        {
          "output_type": "stream",
          "name": "stderr",
          "text": [
            "100%|██████████| 600/600 [00:14<00:00, 40.39it/s]\n"
          ]
        },
        {
          "output_type": "stream",
          "name": "stdout",
          "text": [
            "--------------------\n",
            "FOLD- 2\n",
            "[np.uint64(58374), 1, 2]\n",
            "[np.uint64(59036), 2, 2]\n",
            "[np.uint64(60324), 1, 2]\n",
            "Accuracy:  33.33333333333333 %\n",
            "--------------------\n"
          ]
        },
        {
          "output_type": "stream",
          "name": "stderr",
          "text": [
            "100%|██████████| 600/600 [00:14<00:00, 40.19it/s]\n"
          ]
        },
        {
          "output_type": "stream",
          "name": "stdout",
          "text": [
            "--------------------\n",
            "FOLD- 3\n",
            "[np.uint64(42569), 1, 2]\n",
            "[np.uint64(44548), 0, 2]\n",
            "[np.uint64(45182), 0, 2]\n",
            "Accuracy:  0.0 %\n",
            "--------------------\n"
          ]
        },
        {
          "output_type": "stream",
          "name": "stderr",
          "text": [
            "100%|██████████| 600/600 [00:17<00:00, 33.76it/s]\n"
          ]
        },
        {
          "output_type": "stream",
          "name": "stdout",
          "text": [
            "--------------------\n",
            "FOLD- 4\n",
            "[np.uint64(49989), 2, 1]\n",
            "[np.uint64(51929), 1, 1]\n",
            "[np.uint64(55535), 2, 1]\n",
            "Accuracy:  33.33333333333333 %\n",
            "--------------------\n"
          ]
        },
        {
          "output_type": "stream",
          "name": "stderr",
          "text": [
            "100%|██████████| 600/600 [00:14<00:00, 42.07it/s]\n"
          ]
        },
        {
          "output_type": "stream",
          "name": "stdout",
          "text": [
            "--------------------\n",
            "FOLD- 5\n",
            "[np.uint64(57522), 1, 2]\n",
            "[np.uint64(58490), 1, 2]\n",
            "[np.uint64(59133), 2, 2]\n",
            "Accuracy:  33.33333333333333 %\n",
            "--------------------\n",
            "-------\n",
            "---------- for Neigbour=5 ----------\n"
          ]
        },
        {
          "output_type": "stream",
          "name": "stderr",
          "text": [
            "100%|██████████| 600/600 [00:14<00:00, 42.80it/s]\n"
          ]
        },
        {
          "output_type": "stream",
          "name": "stdout",
          "text": [
            "--------------------\n",
            "FOLD- 1\n",
            "[np.uint64(54202), 1, 2]\n",
            "[np.uint64(55161), 2, 2]\n",
            "[np.uint64(56257), 0, 2]\n",
            "[np.uint64(57327), 0, 2]\n",
            "[np.uint64(58125), 1, 2]\n",
            "Accuracy:  20.0 %\n",
            "--------------------\n"
          ]
        },
        {
          "output_type": "stream",
          "name": "stderr",
          "text": [
            "100%|██████████| 600/600 [00:15<00:00, 39.65it/s]\n"
          ]
        },
        {
          "output_type": "stream",
          "name": "stdout",
          "text": [
            "--------------------\n",
            "FOLD- 2\n",
            "[np.uint64(58374), 1, 2]\n",
            "[np.uint64(59036), 2, 2]\n",
            "[np.uint64(60324), 1, 2]\n",
            "[np.uint64(60345), 1, 2]\n",
            "[np.uint64(60490), 2, 2]\n",
            "Accuracy:  40.0 %\n",
            "--------------------\n"
          ]
        },
        {
          "output_type": "stream",
          "name": "stderr",
          "text": [
            "100%|██████████| 600/600 [00:15<00:00, 37.82it/s]\n"
          ]
        },
        {
          "output_type": "stream",
          "name": "stdout",
          "text": [
            "--------------------\n",
            "FOLD- 3\n",
            "[np.uint64(42569), 1, 2]\n",
            "[np.uint64(44548), 0, 2]\n",
            "[np.uint64(45182), 0, 2]\n",
            "[np.uint64(46600), 2, 2]\n",
            "[np.uint64(46672), 0, 2]\n",
            "Accuracy:  20.0 %\n",
            "--------------------\n"
          ]
        },
        {
          "output_type": "stream",
          "name": "stderr",
          "text": [
            "100%|██████████| 600/600 [00:14<00:00, 42.17it/s]\n"
          ]
        },
        {
          "output_type": "stream",
          "name": "stdout",
          "text": [
            "--------------------\n",
            "FOLD- 4\n",
            "[np.uint64(49989), 2, 1]\n",
            "[np.uint64(51929), 1, 1]\n",
            "[np.uint64(55535), 2, 1]\n",
            "[np.uint64(58582), 2, 1]\n",
            "[np.uint64(58913), 2, 1]\n",
            "Accuracy:  20.0 %\n",
            "--------------------\n"
          ]
        },
        {
          "output_type": "stream",
          "name": "stderr",
          "text": [
            "100%|██████████| 600/600 [00:14<00:00, 41.84it/s]\n"
          ]
        },
        {
          "output_type": "stream",
          "name": "stdout",
          "text": [
            "--------------------\n",
            "FOLD- 5\n",
            "[np.uint64(57522), 1, 2]\n",
            "[np.uint64(58490), 1, 2]\n",
            "[np.uint64(59133), 2, 2]\n",
            "[np.uint64(59933), 2, 2]\n",
            "[np.uint64(59971), 2, 2]\n",
            "Accuracy:  60.0 %\n",
            "--------------------\n",
            "-------\n",
            "---------- for Neigbour=9 ----------\n"
          ]
        },
        {
          "output_type": "stream",
          "name": "stderr",
          "text": [
            "100%|██████████| 600/600 [00:14<00:00, 42.84it/s]\n"
          ]
        },
        {
          "output_type": "stream",
          "name": "stdout",
          "text": [
            "--------------------\n",
            "FOLD- 1\n",
            "[np.uint64(54202), 1, 2]\n",
            "[np.uint64(55161), 2, 2]\n",
            "[np.uint64(56257), 0, 2]\n",
            "[np.uint64(57327), 0, 2]\n",
            "[np.uint64(58125), 1, 2]\n",
            "[np.uint64(59253), 0, 2]\n",
            "[np.uint64(60856), 1, 1]\n",
            "[np.uint64(61403), 2, 2]\n",
            "[np.uint64(61732), 2, 2]\n",
            "Accuracy:  44.44444444444444 %\n",
            "--------------------\n"
          ]
        },
        {
          "output_type": "stream",
          "name": "stderr",
          "text": [
            "100%|██████████| 600/600 [00:14<00:00, 41.89it/s]\n"
          ]
        },
        {
          "output_type": "stream",
          "name": "stdout",
          "text": [
            "--------------------\n",
            "FOLD- 2\n",
            "[np.uint64(58374), 1, 2]\n",
            "[np.uint64(59036), 2, 2]\n",
            "[np.uint64(60324), 1, 2]\n",
            "[np.uint64(60345), 1, 2]\n",
            "[np.uint64(60490), 2, 2]\n",
            "[np.uint64(61041), 1, 2]\n",
            "[np.uint64(61344), 2, 1]\n",
            "[np.uint64(61674), 1, 2]\n",
            "[np.uint64(63654), 0, 2]\n",
            "Accuracy:  22.22222222222222 %\n",
            "--------------------\n"
          ]
        },
        {
          "output_type": "stream",
          "name": "stderr",
          "text": [
            "100%|██████████| 600/600 [00:13<00:00, 43.21it/s]\n"
          ]
        },
        {
          "output_type": "stream",
          "name": "stdout",
          "text": [
            "--------------------\n",
            "FOLD- 3\n",
            "[np.uint64(42569), 1, 2]\n",
            "[np.uint64(44548), 0, 2]\n",
            "[np.uint64(45182), 0, 2]\n",
            "[np.uint64(46600), 2, 2]\n",
            "[np.uint64(46672), 0, 2]\n",
            "[np.uint64(48476), 2, 1]\n",
            "[np.uint64(49052), 1, 2]\n",
            "[np.uint64(49861), 1, 2]\n",
            "[np.uint64(51775), 0, 2]\n",
            "Accuracy:  11.11111111111111 %\n",
            "--------------------\n"
          ]
        },
        {
          "output_type": "stream",
          "name": "stderr",
          "text": [
            "100%|██████████| 600/600 [00:14<00:00, 41.83it/s]\n"
          ]
        },
        {
          "output_type": "stream",
          "name": "stdout",
          "text": [
            "--------------------\n",
            "FOLD- 4\n",
            "[np.uint64(49989), 2, 1]\n",
            "[np.uint64(51929), 1, 1]\n",
            "[np.uint64(55535), 2, 1]\n",
            "[np.uint64(58582), 2, 1]\n",
            "[np.uint64(58913), 2, 1]\n",
            "[np.uint64(59814), 1, 2]\n",
            "[np.uint64(60001), 1, 2]\n",
            "[np.uint64(60002), 1, 1]\n",
            "[np.uint64(60333), 2, 2]\n",
            "Accuracy:  33.33333333333333 %\n",
            "--------------------\n"
          ]
        },
        {
          "output_type": "stream",
          "name": "stderr",
          "text": [
            "100%|██████████| 600/600 [00:14<00:00, 42.84it/s]\n"
          ]
        },
        {
          "output_type": "stream",
          "name": "stdout",
          "text": [
            "--------------------\n",
            "FOLD- 5\n",
            "[np.uint64(57522), 1, 2]\n",
            "[np.uint64(58490), 1, 2]\n",
            "[np.uint64(59133), 2, 2]\n",
            "[np.uint64(59933), 2, 2]\n",
            "[np.uint64(59971), 2, 2]\n",
            "[np.uint64(59991), 1, 2]\n",
            "[np.uint64(60266), 2, 1]\n",
            "[np.uint64(60404), 1, 2]\n",
            "[np.uint64(60406), 2, 2]\n",
            "Accuracy:  44.44444444444444 %\n",
            "--------------------\n",
            "-------\n",
            "---------- for Neigbour=13 ----------\n"
          ]
        },
        {
          "output_type": "stream",
          "name": "stderr",
          "text": [
            "100%|██████████| 600/600 [00:14<00:00, 41.45it/s]\n"
          ]
        },
        {
          "output_type": "stream",
          "name": "stdout",
          "text": [
            "--------------------\n",
            "FOLD- 1\n",
            "[np.uint64(54202), 1, 2]\n",
            "[np.uint64(55161), 2, 2]\n",
            "[np.uint64(56257), 0, 2]\n",
            "[np.uint64(57327), 0, 2]\n",
            "[np.uint64(58125), 1, 2]\n",
            "[np.uint64(59253), 0, 2]\n",
            "[np.uint64(60856), 1, 1]\n",
            "[np.uint64(61403), 2, 2]\n",
            "[np.uint64(61732), 2, 2]\n",
            "[np.uint64(61844), 1, 2]\n",
            "[np.uint64(62213), 2, 2]\n",
            "[np.uint64(62384), 0, 2]\n",
            "[np.uint64(62518), 1, 2]\n",
            "Accuracy:  38.46153846153847 %\n",
            "--------------------\n"
          ]
        },
        {
          "output_type": "stream",
          "name": "stderr",
          "text": [
            "100%|██████████| 600/600 [00:14<00:00, 42.71it/s]\n"
          ]
        },
        {
          "output_type": "stream",
          "name": "stdout",
          "text": [
            "--------------------\n",
            "FOLD- 2\n",
            "[np.uint64(58374), 1, 2]\n",
            "[np.uint64(59036), 2, 2]\n",
            "[np.uint64(60324), 1, 2]\n",
            "[np.uint64(60345), 1, 2]\n",
            "[np.uint64(60490), 2, 2]\n",
            "[np.uint64(61041), 1, 2]\n",
            "[np.uint64(61344), 2, 1]\n",
            "[np.uint64(61674), 1, 2]\n",
            "[np.uint64(63654), 0, 2]\n",
            "[np.uint64(63677), 1, 2]\n",
            "[np.uint64(64114), 0, 2]\n",
            "[np.uint64(64117), 2, 2]\n",
            "[np.uint64(64653), 0, 2]\n",
            "Accuracy:  23.076923076923077 %\n",
            "--------------------\n"
          ]
        },
        {
          "output_type": "stream",
          "name": "stderr",
          "text": [
            "100%|██████████| 600/600 [00:14<00:00, 41.63it/s]\n"
          ]
        },
        {
          "output_type": "stream",
          "name": "stdout",
          "text": [
            "--------------------\n",
            "FOLD- 3\n",
            "[np.uint64(42569), 1, 2]\n",
            "[np.uint64(44548), 0, 2]\n",
            "[np.uint64(45182), 0, 2]\n",
            "[np.uint64(46600), 2, 2]\n",
            "[np.uint64(46672), 0, 2]\n",
            "[np.uint64(48476), 2, 1]\n",
            "[np.uint64(49052), 1, 2]\n",
            "[np.uint64(49861), 1, 2]\n",
            "[np.uint64(51775), 0, 2]\n",
            "[np.uint64(52330), 2, 2]\n",
            "[np.uint64(57771), 1, 1]\n",
            "[np.uint64(58173), 0, 2]\n",
            "[np.uint64(58249), 1, 2]\n",
            "Accuracy:  23.076923076923077 %\n",
            "--------------------\n"
          ]
        },
        {
          "output_type": "stream",
          "name": "stderr",
          "text": [
            "100%|██████████| 600/600 [00:13<00:00, 43.00it/s]\n"
          ]
        },
        {
          "output_type": "stream",
          "name": "stdout",
          "text": [
            "--------------------\n",
            "FOLD- 4\n",
            "[np.uint64(49989), 2, 1]\n",
            "[np.uint64(51929), 1, 1]\n",
            "[np.uint64(55535), 2, 1]\n",
            "[np.uint64(58582), 2, 1]\n",
            "[np.uint64(58913), 2, 1]\n",
            "[np.uint64(59814), 1, 2]\n",
            "[np.uint64(60001), 1, 2]\n",
            "[np.uint64(60002), 1, 1]\n",
            "[np.uint64(60333), 2, 2]\n",
            "[np.uint64(60470), 1, 2]\n",
            "[np.uint64(61293), 2, 1]\n",
            "[np.uint64(61482), 1, 1]\n",
            "[np.uint64(61533), 1, 1]\n",
            "Accuracy:  38.46153846153847 %\n",
            "--------------------\n"
          ]
        },
        {
          "output_type": "stream",
          "name": "stderr",
          "text": [
            "100%|██████████| 600/600 [00:14<00:00, 41.68it/s]\n"
          ]
        },
        {
          "output_type": "stream",
          "name": "stdout",
          "text": [
            "--------------------\n",
            "FOLD- 5\n",
            "[np.uint64(57522), 1, 2]\n",
            "[np.uint64(58490), 1, 2]\n",
            "[np.uint64(59133), 2, 2]\n",
            "[np.uint64(59933), 2, 2]\n",
            "[np.uint64(59971), 2, 2]\n",
            "[np.uint64(59991), 1, 2]\n",
            "[np.uint64(60266), 2, 1]\n",
            "[np.uint64(60404), 1, 2]\n",
            "[np.uint64(60406), 2, 2]\n",
            "[np.uint64(60931), 2, 1]\n",
            "[np.uint64(60976), 0, 1]\n",
            "[np.uint64(61041), 2, 1]\n",
            "[np.uint64(61725), 2, 1]\n",
            "Accuracy:  30.76923076923077 %\n",
            "--------------------\n",
            "-------\n",
            "---------- for Neigbour=15 ----------\n"
          ]
        },
        {
          "output_type": "stream",
          "name": "stderr",
          "text": [
            "100%|██████████| 600/600 [00:17<00:00, 34.28it/s]\n"
          ]
        },
        {
          "output_type": "stream",
          "name": "stdout",
          "text": [
            "--------------------\n",
            "FOLD- 1\n",
            "[np.uint64(54202), 1, 2]\n",
            "[np.uint64(55161), 2, 2]\n",
            "[np.uint64(56257), 0, 2]\n",
            "[np.uint64(57327), 0, 2]\n",
            "[np.uint64(58125), 1, 2]\n",
            "[np.uint64(59253), 0, 2]\n",
            "[np.uint64(60856), 1, 1]\n",
            "[np.uint64(61403), 2, 2]\n",
            "[np.uint64(61732), 2, 2]\n",
            "[np.uint64(61844), 1, 2]\n",
            "[np.uint64(62213), 2, 2]\n",
            "[np.uint64(62384), 0, 2]\n",
            "[np.uint64(62518), 1, 2]\n",
            "[np.uint64(63178), 2, 1]\n",
            "[np.uint64(63403), 2, 1]\n",
            "Accuracy:  33.33333333333333 %\n",
            "--------------------\n"
          ]
        },
        {
          "output_type": "stream",
          "name": "stderr",
          "text": [
            "100%|██████████| 600/600 [00:14<00:00, 41.01it/s]\n"
          ]
        },
        {
          "output_type": "stream",
          "name": "stdout",
          "text": [
            "--------------------\n",
            "FOLD- 2\n",
            "[np.uint64(58374), 1, 2]\n",
            "[np.uint64(59036), 2, 2]\n",
            "[np.uint64(60324), 1, 2]\n",
            "[np.uint64(60345), 1, 2]\n",
            "[np.uint64(60490), 2, 2]\n",
            "[np.uint64(61041), 1, 2]\n",
            "[np.uint64(61344), 2, 1]\n",
            "[np.uint64(61674), 1, 2]\n",
            "[np.uint64(63654), 0, 2]\n",
            "[np.uint64(63677), 1, 2]\n",
            "[np.uint64(64114), 0, 2]\n",
            "[np.uint64(64117), 2, 2]\n",
            "[np.uint64(64653), 0, 2]\n",
            "[np.uint64(64700), 2, 1]\n",
            "[np.uint64(64835), 1, 1]\n",
            "Accuracy:  26.666666666666668 %\n",
            "--------------------\n"
          ]
        },
        {
          "output_type": "stream",
          "name": "stderr",
          "text": [
            "100%|██████████| 600/600 [00:14<00:00, 42.52it/s]\n"
          ]
        },
        {
          "output_type": "stream",
          "name": "stdout",
          "text": [
            "--------------------\n",
            "FOLD- 3\n",
            "[np.uint64(42569), 1, 2]\n",
            "[np.uint64(44548), 0, 2]\n",
            "[np.uint64(45182), 0, 2]\n",
            "[np.uint64(46600), 2, 2]\n",
            "[np.uint64(46672), 0, 2]\n",
            "[np.uint64(48476), 2, 1]\n",
            "[np.uint64(49052), 1, 2]\n",
            "[np.uint64(49861), 1, 2]\n",
            "[np.uint64(51775), 0, 2]\n",
            "[np.uint64(52330), 2, 2]\n",
            "[np.uint64(57771), 1, 1]\n",
            "[np.uint64(58173), 0, 2]\n",
            "[np.uint64(58249), 1, 2]\n",
            "[np.uint64(58718), 1, 2]\n",
            "[np.uint64(58948), 0, 2]\n",
            "Accuracy:  20.0 %\n",
            "--------------------\n"
          ]
        },
        {
          "output_type": "stream",
          "name": "stderr",
          "text": [
            "100%|██████████| 600/600 [00:14<00:00, 41.26it/s]\n"
          ]
        },
        {
          "output_type": "stream",
          "name": "stdout",
          "text": [
            "--------------------\n",
            "FOLD- 4\n",
            "[np.uint64(49989), 2, 1]\n",
            "[np.uint64(51929), 1, 1]\n",
            "[np.uint64(55535), 2, 1]\n",
            "[np.uint64(58582), 2, 1]\n",
            "[np.uint64(58913), 2, 1]\n",
            "[np.uint64(59814), 1, 2]\n",
            "[np.uint64(60001), 1, 2]\n",
            "[np.uint64(60002), 1, 1]\n",
            "[np.uint64(60333), 2, 2]\n",
            "[np.uint64(60470), 1, 2]\n",
            "[np.uint64(61293), 2, 1]\n",
            "[np.uint64(61482), 1, 1]\n",
            "[np.uint64(61533), 1, 1]\n",
            "[np.uint64(61543), 2, 1]\n",
            "[np.uint64(62088), 2, 2]\n",
            "Accuracy:  40.0 %\n",
            "--------------------\n"
          ]
        },
        {
          "output_type": "stream",
          "name": "stderr",
          "text": [
            "100%|██████████| 600/600 [00:14<00:00, 42.43it/s]\n"
          ]
        },
        {
          "output_type": "stream",
          "name": "stdout",
          "text": [
            "--------------------\n",
            "FOLD- 5\n",
            "[np.uint64(57522), 1, 2]\n",
            "[np.uint64(58490), 1, 2]\n",
            "[np.uint64(59133), 2, 2]\n",
            "[np.uint64(59933), 2, 2]\n",
            "[np.uint64(59971), 2, 2]\n",
            "[np.uint64(59991), 1, 2]\n",
            "[np.uint64(60266), 2, 1]\n",
            "[np.uint64(60404), 1, 2]\n",
            "[np.uint64(60406), 2, 2]\n",
            "[np.uint64(60931), 2, 1]\n",
            "[np.uint64(60976), 0, 1]\n",
            "[np.uint64(61041), 2, 1]\n",
            "[np.uint64(61725), 2, 1]\n",
            "[np.uint64(62124), 0, 1]\n",
            "[np.uint64(62481), 1, 1]\n",
            "Accuracy:  33.33333333333333 %\n",
            "--------------------\n",
            "-------\n",
            "---------- for Neigbour=20 ----------\n"
          ]
        },
        {
          "output_type": "stream",
          "name": "stderr",
          "text": [
            "100%|██████████| 600/600 [00:14<00:00, 42.74it/s]\n"
          ]
        },
        {
          "output_type": "stream",
          "name": "stdout",
          "text": [
            "--------------------\n",
            "FOLD- 1\n",
            "[np.uint64(54202), 1, 2]\n",
            "[np.uint64(55161), 2, 2]\n",
            "[np.uint64(56257), 0, 2]\n",
            "[np.uint64(57327), 0, 2]\n",
            "[np.uint64(58125), 1, 2]\n",
            "[np.uint64(59253), 0, 2]\n",
            "[np.uint64(60856), 1, 1]\n",
            "[np.uint64(61403), 2, 2]\n",
            "[np.uint64(61732), 2, 2]\n",
            "[np.uint64(61844), 1, 2]\n",
            "[np.uint64(62213), 2, 2]\n",
            "[np.uint64(62384), 0, 2]\n",
            "[np.uint64(62518), 1, 2]\n",
            "[np.uint64(63178), 2, 1]\n",
            "[np.uint64(63403), 2, 1]\n",
            "[np.uint64(64206), 1, 2]\n",
            "[np.uint64(64405), 1, 1]\n",
            "[np.uint64(64663), 2, 2]\n",
            "[np.uint64(65017), 2, 2]\n",
            "[np.uint64(65226), 1, 0]\n",
            "Accuracy:  40.0 %\n",
            "--------------------\n"
          ]
        },
        {
          "output_type": "stream",
          "name": "stderr",
          "text": [
            "100%|██████████| 600/600 [00:13<00:00, 43.45it/s]\n"
          ]
        },
        {
          "output_type": "stream",
          "name": "stdout",
          "text": [
            "--------------------\n",
            "FOLD- 2\n",
            "[np.uint64(58374), 1, 2]\n",
            "[np.uint64(59036), 2, 2]\n",
            "[np.uint64(60324), 1, 2]\n",
            "[np.uint64(60345), 1, 2]\n",
            "[np.uint64(60490), 2, 2]\n",
            "[np.uint64(61041), 1, 2]\n",
            "[np.uint64(61344), 2, 1]\n",
            "[np.uint64(61674), 1, 2]\n",
            "[np.uint64(63654), 0, 2]\n",
            "[np.uint64(63677), 1, 2]\n",
            "[np.uint64(64114), 0, 2]\n",
            "[np.uint64(64117), 2, 2]\n",
            "[np.uint64(64653), 0, 2]\n",
            "[np.uint64(64700), 2, 1]\n",
            "[np.uint64(64835), 1, 1]\n",
            "[np.uint64(64889), 1, 2]\n",
            "[np.uint64(64930), 2, 2]\n",
            "[np.uint64(64982), 1, 1]\n",
            "[np.uint64(65141), 2, 1]\n",
            "[np.uint64(65387), 1, 2]\n",
            "Accuracy:  30.0 %\n",
            "--------------------\n"
          ]
        },
        {
          "output_type": "stream",
          "name": "stderr",
          "text": [
            "100%|██████████| 600/600 [00:14<00:00, 42.55it/s]\n"
          ]
        },
        {
          "output_type": "stream",
          "name": "stdout",
          "text": [
            "--------------------\n",
            "FOLD- 3\n",
            "[np.uint64(42569), 1, 2]\n",
            "[np.uint64(44548), 0, 2]\n",
            "[np.uint64(45182), 0, 2]\n",
            "[np.uint64(46600), 2, 2]\n",
            "[np.uint64(46672), 0, 2]\n",
            "[np.uint64(48476), 2, 1]\n",
            "[np.uint64(49052), 1, 2]\n",
            "[np.uint64(49861), 1, 2]\n",
            "[np.uint64(51775), 0, 2]\n",
            "[np.uint64(52330), 2, 2]\n",
            "[np.uint64(57771), 1, 1]\n",
            "[np.uint64(58173), 0, 2]\n",
            "[np.uint64(58249), 1, 2]\n",
            "[np.uint64(58718), 1, 2]\n",
            "[np.uint64(58948), 0, 2]\n",
            "[np.uint64(58950), 2, 2]\n",
            "[np.uint64(58966), 1, 2]\n",
            "[np.uint64(59191), 1, 1]\n",
            "[np.uint64(59245), 0, 2]\n",
            "[np.uint64(59424), 1, 1]\n",
            "Accuracy:  30.0 %\n",
            "--------------------\n"
          ]
        },
        {
          "output_type": "stream",
          "name": "stderr",
          "text": [
            "100%|██████████| 600/600 [00:13<00:00, 42.88it/s]\n"
          ]
        },
        {
          "output_type": "stream",
          "name": "stdout",
          "text": [
            "--------------------\n",
            "FOLD- 4\n",
            "[np.uint64(49989), 2, 1]\n",
            "[np.uint64(51929), 1, 1]\n",
            "[np.uint64(55535), 2, 1]\n",
            "[np.uint64(58582), 2, 1]\n",
            "[np.uint64(58913), 2, 1]\n",
            "[np.uint64(59814), 1, 2]\n",
            "[np.uint64(60001), 1, 2]\n",
            "[np.uint64(60002), 1, 1]\n",
            "[np.uint64(60333), 2, 2]\n",
            "[np.uint64(60470), 1, 2]\n",
            "[np.uint64(61293), 2, 1]\n",
            "[np.uint64(61482), 1, 1]\n",
            "[np.uint64(61533), 1, 1]\n",
            "[np.uint64(61543), 2, 1]\n",
            "[np.uint64(62088), 2, 2]\n",
            "[np.uint64(62594), 2, 2]\n",
            "[np.uint64(62763), 2, 1]\n",
            "[np.uint64(62812), 0, 1]\n",
            "[np.uint64(62921), 2, 1]\n",
            "[np.uint64(63139), 1, 1]\n",
            "Accuracy:  40.0 %\n",
            "--------------------\n"
          ]
        },
        {
          "output_type": "stream",
          "name": "stderr",
          "text": [
            "100%|██████████| 600/600 [00:14<00:00, 42.14it/s]\n"
          ]
        },
        {
          "output_type": "stream",
          "name": "stdout",
          "text": [
            "--------------------\n",
            "FOLD- 5\n",
            "[np.uint64(57522), 1, 2]\n",
            "[np.uint64(58490), 1, 2]\n",
            "[np.uint64(59133), 2, 2]\n",
            "[np.uint64(59933), 2, 2]\n",
            "[np.uint64(59971), 2, 2]\n",
            "[np.uint64(59991), 1, 2]\n",
            "[np.uint64(60266), 2, 1]\n",
            "[np.uint64(60404), 1, 2]\n",
            "[np.uint64(60406), 2, 2]\n",
            "[np.uint64(60931), 2, 1]\n",
            "[np.uint64(60976), 0, 1]\n",
            "[np.uint64(61041), 2, 1]\n",
            "[np.uint64(61725), 2, 1]\n",
            "[np.uint64(62124), 0, 1]\n",
            "[np.uint64(62481), 1, 1]\n",
            "[np.uint64(62602), 1, 1]\n",
            "[np.uint64(62762), 1, 1]\n",
            "[np.uint64(63005), 2, 1]\n",
            "[np.uint64(63295), 2, 0]\n",
            "[np.uint64(64344), 1, 2]\n",
            "Accuracy:  35.0 %\n",
            "--------------------\n",
            "-------\n",
            "---------- for Neigbour=25 ----------\n"
          ]
        },
        {
          "output_type": "stream",
          "name": "stderr",
          "text": [
            "100%|██████████| 600/600 [00:13<00:00, 42.98it/s]\n"
          ]
        },
        {
          "output_type": "stream",
          "name": "stdout",
          "text": [
            "--------------------\n",
            "FOLD- 1\n",
            "[np.uint64(54202), 1, 2]\n",
            "[np.uint64(55161), 2, 2]\n",
            "[np.uint64(56257), 0, 2]\n",
            "[np.uint64(57327), 0, 2]\n",
            "[np.uint64(58125), 1, 2]\n",
            "[np.uint64(59253), 0, 2]\n",
            "[np.uint64(60856), 1, 1]\n",
            "[np.uint64(61403), 2, 2]\n",
            "[np.uint64(61732), 2, 2]\n",
            "[np.uint64(61844), 1, 2]\n",
            "[np.uint64(62213), 2, 2]\n",
            "[np.uint64(62384), 0, 2]\n",
            "[np.uint64(62518), 1, 2]\n",
            "[np.uint64(63178), 2, 1]\n",
            "[np.uint64(63403), 2, 1]\n",
            "[np.uint64(64206), 1, 2]\n",
            "[np.uint64(64405), 1, 1]\n",
            "[np.uint64(64663), 2, 2]\n",
            "[np.uint64(65017), 2, 2]\n",
            "[np.uint64(65226), 1, 0]\n",
            "[np.uint64(65234), 0, 2]\n",
            "[np.uint64(65494), 2, 1]\n",
            "[np.uint64(65589), 2, 1]\n",
            "[np.uint64(65621), 2, 1]\n",
            "[np.uint64(65701), 2, 1]\n",
            "Accuracy:  32.0 %\n",
            "--------------------\n"
          ]
        },
        {
          "output_type": "stream",
          "name": "stderr",
          "text": [
            "100%|██████████| 600/600 [00:14<00:00, 42.51it/s]\n"
          ]
        },
        {
          "output_type": "stream",
          "name": "stdout",
          "text": [
            "--------------------\n",
            "FOLD- 2\n",
            "[np.uint64(58374), 1, 2]\n",
            "[np.uint64(59036), 2, 2]\n",
            "[np.uint64(60324), 1, 2]\n",
            "[np.uint64(60345), 1, 2]\n",
            "[np.uint64(60490), 2, 2]\n",
            "[np.uint64(61041), 1, 2]\n",
            "[np.uint64(61344), 2, 1]\n",
            "[np.uint64(61674), 1, 2]\n",
            "[np.uint64(63654), 0, 2]\n",
            "[np.uint64(63677), 1, 2]\n",
            "[np.uint64(64114), 0, 2]\n",
            "[np.uint64(64117), 2, 2]\n",
            "[np.uint64(64653), 0, 2]\n",
            "[np.uint64(64700), 2, 1]\n",
            "[np.uint64(64835), 1, 1]\n",
            "[np.uint64(64889), 1, 2]\n",
            "[np.uint64(64930), 2, 2]\n",
            "[np.uint64(64982), 1, 1]\n",
            "[np.uint64(65141), 2, 1]\n",
            "[np.uint64(65387), 1, 2]\n",
            "[np.uint64(65573), 1, 2]\n",
            "[np.uint64(65694), 0, 2]\n",
            "[np.uint64(65811), 1, 2]\n",
            "[np.uint64(65970), 2, 2]\n",
            "[np.uint64(66711), 1, 2]\n",
            "Accuracy:  28.000000000000004 %\n",
            "--------------------\n"
          ]
        },
        {
          "output_type": "stream",
          "name": "stderr",
          "text": [
            "100%|██████████| 600/600 [00:14<00:00, 41.91it/s]\n"
          ]
        },
        {
          "output_type": "stream",
          "name": "stdout",
          "text": [
            "--------------------\n",
            "FOLD- 3\n",
            "[np.uint64(42569), 1, 2]\n",
            "[np.uint64(44548), 0, 2]\n",
            "[np.uint64(45182), 0, 2]\n",
            "[np.uint64(46600), 2, 2]\n",
            "[np.uint64(46672), 0, 2]\n",
            "[np.uint64(48476), 2, 1]\n",
            "[np.uint64(49052), 1, 2]\n",
            "[np.uint64(49861), 1, 2]\n",
            "[np.uint64(51775), 0, 2]\n",
            "[np.uint64(52330), 2, 2]\n",
            "[np.uint64(57771), 1, 1]\n",
            "[np.uint64(58173), 0, 2]\n",
            "[np.uint64(58249), 1, 2]\n",
            "[np.uint64(58718), 1, 2]\n",
            "[np.uint64(58948), 0, 2]\n",
            "[np.uint64(58950), 2, 2]\n",
            "[np.uint64(58966), 1, 2]\n",
            "[np.uint64(59191), 1, 1]\n",
            "[np.uint64(59245), 0, 2]\n",
            "[np.uint64(59424), 1, 1]\n",
            "[np.uint64(59672), 2, 2]\n",
            "[np.uint64(59820), 2, 2]\n",
            "[np.uint64(60325), 1, 2]\n",
            "[np.uint64(60829), 1, 2]\n",
            "[np.uint64(60968), 2, 2]\n",
            "Accuracy:  36.0 %\n",
            "--------------------\n"
          ]
        },
        {
          "output_type": "stream",
          "name": "stderr",
          "text": [
            "100%|██████████| 600/600 [00:13<00:00, 42.87it/s]\n"
          ]
        },
        {
          "output_type": "stream",
          "name": "stdout",
          "text": [
            "--------------------\n",
            "FOLD- 4\n",
            "[np.uint64(49989), 2, 1]\n",
            "[np.uint64(51929), 1, 1]\n",
            "[np.uint64(55535), 2, 1]\n",
            "[np.uint64(58582), 2, 1]\n",
            "[np.uint64(58913), 2, 1]\n",
            "[np.uint64(59814), 1, 2]\n",
            "[np.uint64(60001), 1, 2]\n",
            "[np.uint64(60002), 1, 1]\n",
            "[np.uint64(60333), 2, 2]\n",
            "[np.uint64(60470), 1, 2]\n",
            "[np.uint64(61293), 2, 1]\n",
            "[np.uint64(61482), 1, 1]\n",
            "[np.uint64(61533), 1, 1]\n",
            "[np.uint64(61543), 2, 1]\n",
            "[np.uint64(62088), 2, 2]\n",
            "[np.uint64(62594), 2, 2]\n",
            "[np.uint64(62763), 2, 1]\n",
            "[np.uint64(62812), 0, 1]\n",
            "[np.uint64(62921), 2, 1]\n",
            "[np.uint64(63139), 1, 1]\n",
            "[np.uint64(63231), 0, 1]\n",
            "[np.uint64(63426), 2, 2]\n",
            "[np.uint64(63638), 1, 2]\n",
            "[np.uint64(63852), 1, 2]\n",
            "[np.uint64(64148), 2, 2]\n",
            "Accuracy:  40.0 %\n",
            "--------------------\n"
          ]
        },
        {
          "output_type": "stream",
          "name": "stderr",
          "text": [
            "100%|██████████| 600/600 [00:13<00:00, 42.99it/s]\n"
          ]
        },
        {
          "output_type": "stream",
          "name": "stdout",
          "text": [
            "--------------------\n",
            "FOLD- 5\n",
            "[np.uint64(57522), 1, 2]\n",
            "[np.uint64(58490), 1, 2]\n",
            "[np.uint64(59133), 2, 2]\n",
            "[np.uint64(59933), 2, 2]\n",
            "[np.uint64(59971), 2, 2]\n",
            "[np.uint64(59991), 1, 2]\n",
            "[np.uint64(60266), 2, 1]\n",
            "[np.uint64(60404), 1, 2]\n",
            "[np.uint64(60406), 2, 2]\n",
            "[np.uint64(60931), 2, 1]\n",
            "[np.uint64(60976), 0, 1]\n",
            "[np.uint64(61041), 2, 1]\n",
            "[np.uint64(61725), 2, 1]\n",
            "[np.uint64(62124), 0, 1]\n",
            "[np.uint64(62481), 1, 1]\n",
            "[np.uint64(62602), 1, 1]\n",
            "[np.uint64(62762), 1, 1]\n",
            "[np.uint64(63005), 2, 1]\n",
            "[np.uint64(63295), 2, 0]\n",
            "[np.uint64(64344), 1, 2]\n",
            "[np.uint64(64488), 2, 0]\n",
            "[np.uint64(64619), 2, 2]\n",
            "[np.uint64(64825), 2, 1]\n",
            "[np.uint64(64973), 2, 2]\n",
            "[np.uint64(65235), 2, 2]\n",
            "Accuracy:  40.0 %\n",
            "--------------------\n",
            "-------\n",
            "[{3: [0.3333333333333333, 0.3333333333333333, 0.0, 0.3333333333333333, 0.3333333333333333]}, {5: [0.2, 0.4, 0.2, 0.2, 0.6]}, {9: [0.4444444444444444, 0.2222222222222222, 0.1111111111111111, 0.3333333333333333, 0.4444444444444444]}, {13: [0.38461538461538464, 0.23076923076923078, 0.23076923076923078, 0.38461538461538464, 0.3076923076923077]}, {15: [0.3333333333333333, 0.26666666666666666, 0.2, 0.4, 0.3333333333333333]}, {20: [0.4, 0.3, 0.3, 0.4, 0.35]}, {25: [0.32, 0.28, 0.36, 0.4, 0.4]}]\n"
          ]
        }
      ],
      "source": [
        "\n",
        "K_nei=[3, 5, 9, 13, 15, 20,25]\n",
        "points=[]\n",
        "for i in K_nei:\n",
        "\n",
        "  print(\"-\"*10,f\"for Neigbour={i}\",\"-\"*10)\n",
        "  point=KFOLD(trained_data,kf=5,k_nei=i,L=1)\n",
        "  points.append(point)\n",
        "  print(\"-\"*7)\n",
        "\n",
        "\n",
        "\n",
        "\n",
        "print(points)"
      ]
    },
    {
      "cell_type": "markdown",
      "metadata": {
        "id": "sWxX6vF6jeE9"
      },
      "source": [
        "Plotting values of points for L1 Distance\n",
        "\n"
      ]
    },
    {
      "cell_type": "code",
      "execution_count": 14,
      "metadata": {
        "colab": {
          "base_uri": "https://localhost:8080/",
          "height": 581
        },
        "id": "QZSkYweaJ6oz",
        "outputId": "566557e4-6337-49a5-dea0-c4fbdc271f3d"
      },
      "outputs": [
        {
          "output_type": "display_data",
          "data": {
            "text/plain": [
              "<Figure size 1000x600 with 1 Axes>"
            ],
            "image/png": "[encoded data removed]"
          },
          "metadata": {}
        },
        {
          "output_type": "stream",
          "name": "stdout",
          "text": [
            "[3, 5, 9, 13, 15, 20, 25]\n"
          ]
        }
      ],
      "source": [
        "result_dict = {}\n",
        "middle_point=[]\n",
        "\n",
        "for item in points:\n",
        "    result_dict.update(item)\n",
        "\n",
        "colors = ['r', 'g', 'b', 'c', 'm', 'y', 'k']\n",
        "plt.figure(figsize=(10,6))\n",
        "plt.title(\"Cross Validation on k\")\n",
        "plt.ylabel(\"Cross-Validation Accuracy\")\n",
        "plt.xlabel(\"Values of Hyper Parameter(k in KNN)\")\n",
        "for idx2,(key,values) in  enumerate(result_dict.items()):\n",
        "  avg=np.sum(values)/len(values)\n",
        "  middle_point.append(avg)\n",
        "  x_values = [key] * len(values)\n",
        "  plt.plot(x_values, values, marker='o', color=random.choice(colors), linestyle='-')\n",
        "\n",
        "  for idx,val in enumerate(values):\n",
        "      plt.plot(key,val,marker='o',color=colors[idx],linestyle='-')\n",
        "\n",
        "plt.plot(K_nei,middle_point,marker='o',color='g',linestyle='-')\n",
        "plt.show()\n",
        "print(K_nei)"
      ]
    },
    {
      "cell_type": "markdown",
      "metadata": {
        "id": "7OowFj2DV6EG"
      },
      "source": [
        "Plotting values of points for L2 Distance\n",
        "\n"
      ]
    },
    {
      "cell_type": "code",
      "execution_count": 15,
      "metadata": {
        "colab": {
          "base_uri": "https://localhost:8080/"
        },
        "id": "MH6VBwzCWJgE",
        "outputId": "7b14e889-5eba-483d-d1a6-ed01e275ced4"
      },
      "outputs": [
        {
          "output_type": "stream",
          "name": "stdout",
          "text": [
            "---------- for Neigbour=3 ----------\n"
          ]
        },
        {
          "output_type": "stream",
          "name": "stderr",
          "text": [
            "100%|██████████| 600/600 [00:23<00:00, 25.35it/s]\n"
          ]
        },
        {
          "output_type": "stream",
          "name": "stdout",
          "text": [
            "--------------------\n",
            "FOLD- 1\n",
            "[np.float64(55161.0), 2, 2]\n",
            "[np.float64(57327.0), 0, 2]\n",
            "[np.float64(58125.0), 1, 2]\n",
            "Accuracy:  33.33333333333333 %\n",
            "--------------------\n"
          ]
        },
        {
          "output_type": "stream",
          "name": "stderr",
          "text": [
            "100%|██████████| 600/600 [00:23<00:00, 25.65it/s]\n"
          ]
        },
        {
          "output_type": "stream",
          "name": "stdout",
          "text": [
            "--------------------\n",
            "FOLD- 2\n",
            "[np.float64(42569.0), 1, 2]\n",
            "[np.float64(44548.0), 0, 2]\n",
            "[np.float64(46600.0), 2, 2]\n",
            "Accuracy:  33.33333333333333 %\n",
            "--------------------\n"
          ]
        },
        {
          "output_type": "stream",
          "name": "stderr",
          "text": [
            "100%|██████████| 600/600 [00:24<00:00, 24.61it/s]\n"
          ]
        },
        {
          "output_type": "stream",
          "name": "stdout",
          "text": [
            "--------------------\n",
            "FOLD- 3\n",
            "[np.float64(57399.0), 1, 0]\n",
            "[np.float64(59933.0), 2, 2]\n",
            "[np.float64(60001.0), 1, 2]\n",
            "Accuracy:  33.33333333333333 %\n",
            "--------------------\n"
          ]
        },
        {
          "output_type": "stream",
          "name": "stderr",
          "text": [
            "100%|██████████| 600/600 [00:23<00:00, 25.81it/s]\n"
          ]
        },
        {
          "output_type": "stream",
          "name": "stdout",
          "text": [
            "--------------------\n",
            "FOLD- 4\n",
            "[np.float64(58763.0), 1, 1]\n",
            "[np.float64(59191.0), 1, 1]\n",
            "[np.float64(59991.0), 1, 2]\n",
            "Accuracy:  66.66666666666666 %\n",
            "--------------------\n"
          ]
        },
        {
          "output_type": "stream",
          "name": "stderr",
          "text": [
            "100%|██████████| 600/600 [00:21<00:00, 27.38it/s]\n"
          ]
        },
        {
          "output_type": "stream",
          "name": "stdout",
          "text": [
            "--------------------\n",
            "FOLD- 5\n",
            "[np.float64(51929.0), 1, 1]\n",
            "[np.float64(58374.0), 1, 2]\n",
            "[np.float64(58582.0), 2, 1]\n",
            "Accuracy:  33.33333333333333 %\n",
            "--------------------\n",
            "-------\n",
            "---------- for Neigbour=5 ----------\n"
          ]
        },
        {
          "output_type": "stream",
          "name": "stderr",
          "text": [
            "100%|██████████| 600/600 [00:22<00:00, 26.50it/s]\n"
          ]
        },
        {
          "output_type": "stream",
          "name": "stdout",
          "text": [
            "--------------------\n",
            "FOLD- 1\n",
            "[np.float64(55161.0), 2, 2]\n",
            "[np.float64(57327.0), 0, 2]\n",
            "[np.float64(58125.0), 1, 2]\n",
            "[np.float64(58706.0), 2, 1]\n",
            "[np.float64(59253.0), 0, 2]\n",
            "Accuracy:  20.0 %\n",
            "--------------------\n"
          ]
        },
        {
          "output_type": "stream",
          "name": "stderr",
          "text": [
            "100%|██████████| 600/600 [00:23<00:00, 25.34it/s]\n"
          ]
        },
        {
          "output_type": "stream",
          "name": "stdout",
          "text": [
            "--------------------\n",
            "FOLD- 2\n",
            "[np.float64(42569.0), 1, 2]\n",
            "[np.float64(44548.0), 0, 2]\n",
            "[np.float64(46600.0), 2, 2]\n",
            "[np.float64(46672.0), 0, 2]\n",
            "[np.float64(48476.0), 2, 1]\n",
            "Accuracy:  20.0 %\n",
            "--------------------\n"
          ]
        },
        {
          "output_type": "stream",
          "name": "stderr",
          "text": [
            "100%|██████████| 600/600 [00:25<00:00, 23.72it/s]\n"
          ]
        },
        {
          "output_type": "stream",
          "name": "stdout",
          "text": [
            "--------------------\n",
            "FOLD- 3\n",
            "[np.float64(57399.0), 1, 0]\n",
            "[np.float64(59933.0), 2, 2]\n",
            "[np.float64(60001.0), 1, 2]\n",
            "[np.float64(60333.0), 2, 2]\n",
            "[np.float64(61933.0), 2, 2]\n",
            "Accuracy:  60.0 %\n",
            "--------------------\n"
          ]
        },
        {
          "output_type": "stream",
          "name": "stderr",
          "text": [
            "100%|██████████| 600/600 [00:23<00:00, 25.43it/s]\n"
          ]
        },
        {
          "output_type": "stream",
          "name": "stdout",
          "text": [
            "--------------------\n",
            "FOLD- 4\n",
            "[np.float64(58763.0), 1, 1]\n",
            "[np.float64(59191.0), 1, 1]\n",
            "[np.float64(59991.0), 1, 2]\n",
            "[np.float64(61429.0), 1, 2]\n",
            "[np.float64(62498.0), 1, 1]\n",
            "Accuracy:  60.0 %\n",
            "--------------------\n"
          ]
        },
        {
          "output_type": "stream",
          "name": "stderr",
          "text": [
            "100%|██████████| 600/600 [00:22<00:00, 26.81it/s]\n"
          ]
        },
        {
          "output_type": "stream",
          "name": "stdout",
          "text": [
            "--------------------\n",
            "FOLD- 5\n",
            "[np.float64(51929.0), 1, 1]\n",
            "[np.float64(58374.0), 1, 2]\n",
            "[np.float64(58582.0), 2, 1]\n",
            "[np.float64(58822.0), 1, 1]\n",
            "[np.float64(59031.0), 1, 1]\n",
            "Accuracy:  60.0 %\n",
            "--------------------\n",
            "-------\n",
            "---------- for Neigbour=9 ----------\n"
          ]
        },
        {
          "output_type": "stream",
          "name": "stderr",
          "text": [
            "100%|██████████| 600/600 [00:21<00:00, 27.31it/s]\n"
          ]
        },
        {
          "output_type": "stream",
          "name": "stdout",
          "text": [
            "--------------------\n",
            "FOLD- 1\n",
            "[np.float64(55161.0), 2, 2]\n",
            "[np.float64(57327.0), 0, 2]\n",
            "[np.float64(58125.0), 1, 2]\n",
            "[np.float64(58706.0), 2, 1]\n",
            "[np.float64(59253.0), 0, 2]\n",
            "[np.float64(60075.0), 1, 1]\n",
            "[np.float64(60266.0), 2, 1]\n",
            "[np.float64(60345.0), 1, 2]\n",
            "[np.float64(60490.0), 2, 2]\n",
            "Accuracy:  33.33333333333333 %\n",
            "--------------------\n"
          ]
        },
        {
          "output_type": "stream",
          "name": "stderr",
          "text": [
            "100%|██████████| 600/600 [00:22<00:00, 26.20it/s]\n"
          ]
        },
        {
          "output_type": "stream",
          "name": "stdout",
          "text": [
            "--------------------\n",
            "FOLD- 2\n",
            "[np.float64(42569.0), 1, 2]\n",
            "[np.float64(44548.0), 0, 2]\n",
            "[np.float64(46600.0), 2, 2]\n",
            "[np.float64(46672.0), 0, 2]\n",
            "[np.float64(48476.0), 2, 1]\n",
            "[np.float64(52330.0), 2, 2]\n",
            "[np.float64(55405.0), 1, 1]\n",
            "[np.float64(55762.0), 1, 1]\n",
            "[np.float64(55779.0), 0, 2]\n",
            "Accuracy:  44.44444444444444 %\n",
            "--------------------\n"
          ]
        },
        {
          "output_type": "stream",
          "name": "stderr",
          "text": [
            "100%|██████████| 600/600 [00:23<00:00, 25.44it/s]\n"
          ]
        },
        {
          "output_type": "stream",
          "name": "stdout",
          "text": [
            "--------------------\n",
            "FOLD- 3\n",
            "[np.float64(57399.0), 1, 0]\n",
            "[np.float64(59933.0), 2, 2]\n",
            "[np.float64(60001.0), 1, 2]\n",
            "[np.float64(60333.0), 2, 2]\n",
            "[np.float64(61933.0), 2, 2]\n",
            "[np.float64(62496.0), 2, 2]\n",
            "[np.float64(62565.0), 1, 2]\n",
            "[np.float64(62982.0), 1, 2]\n",
            "[np.float64(63005.0), 2, 1]\n",
            "Accuracy:  44.44444444444444 %\n",
            "--------------------\n"
          ]
        },
        {
          "output_type": "stream",
          "name": "stderr",
          "text": [
            "100%|██████████| 600/600 [00:24<00:00, 24.72it/s]\n"
          ]
        },
        {
          "output_type": "stream",
          "name": "stdout",
          "text": [
            "--------------------\n",
            "FOLD- 4\n",
            "[np.float64(58763.0), 1, 1]\n",
            "[np.float64(59191.0), 1, 1]\n",
            "[np.float64(59991.0), 1, 2]\n",
            "[np.float64(61429.0), 1, 2]\n",
            "[np.float64(62498.0), 1, 1]\n",
            "[np.float64(63654.0), 0, 2]\n",
            "[np.float64(64405.0), 1, 1]\n",
            "[np.float64(64889.0), 1, 2]\n",
            "[np.float64(64973.0), 2, 2]\n",
            "Accuracy:  55.55555555555556 %\n",
            "--------------------\n"
          ]
        },
        {
          "output_type": "stream",
          "name": "stderr",
          "text": [
            "100%|██████████| 600/600 [00:23<00:00, 25.45it/s]\n"
          ]
        },
        {
          "output_type": "stream",
          "name": "stdout",
          "text": [
            "--------------------\n",
            "FOLD- 5\n",
            "[np.float64(51929.0), 1, 1]\n",
            "[np.float64(58374.0), 1, 2]\n",
            "[np.float64(58582.0), 2, 1]\n",
            "[np.float64(58822.0), 1, 1]\n",
            "[np.float64(59031.0), 1, 1]\n",
            "[np.float64(59036.0), 2, 2]\n",
            "[np.float64(59695.0), 2, 1]\n",
            "[np.float64(59746.0), 2, 1]\n",
            "[np.float64(59820.0), 2, 2]\n",
            "Accuracy:  55.55555555555556 %\n",
            "--------------------\n",
            "-------\n",
            "---------- for Neigbour=13 ----------\n"
          ]
        },
        {
          "output_type": "stream",
          "name": "stderr",
          "text": [
            "100%|██████████| 600/600 [00:22<00:00, 26.84it/s]\n"
          ]
        },
        {
          "output_type": "stream",
          "name": "stdout",
          "text": [
            "--------------------\n",
            "FOLD- 1\n",
            "[np.float64(55161.0), 2, 2]\n",
            "[np.float64(57327.0), 0, 2]\n",
            "[np.float64(58125.0), 1, 2]\n",
            "[np.float64(58706.0), 2, 1]\n",
            "[np.float64(59253.0), 0, 2]\n",
            "[np.float64(60075.0), 1, 1]\n",
            "[np.float64(60266.0), 2, 1]\n",
            "[np.float64(60345.0), 1, 2]\n",
            "[np.float64(60490.0), 2, 2]\n",
            "[np.float64(60931.0), 2, 1]\n",
            "[np.float64(60976.0), 0, 1]\n",
            "[np.float64(61041.0), 2, 1]\n",
            "[np.float64(61344.0), 2, 1]\n",
            "Accuracy:  23.076923076923077 %\n",
            "--------------------\n"
          ]
        },
        {
          "output_type": "stream",
          "name": "stderr",
          "text": [
            "100%|██████████| 600/600 [00:22<00:00, 26.51it/s]\n"
          ]
        },
        {
          "output_type": "stream",
          "name": "stdout",
          "text": [
            "--------------------\n",
            "FOLD- 2\n",
            "[np.float64(42569.0), 1, 2]\n",
            "[np.float64(44548.0), 0, 2]\n",
            "[np.float64(46600.0), 2, 2]\n",
            "[np.float64(46672.0), 0, 2]\n",
            "[np.float64(48476.0), 2, 1]\n",
            "[np.float64(52330.0), 2, 2]\n",
            "[np.float64(55405.0), 1, 1]\n",
            "[np.float64(55762.0), 1, 1]\n",
            "[np.float64(55779.0), 0, 2]\n",
            "[np.float64(57522.0), 1, 2]\n",
            "[np.float64(57771.0), 1, 1]\n",
            "[np.float64(58173.0), 0, 2]\n",
            "[np.float64(58249.0), 1, 2]\n",
            "Accuracy:  38.46153846153847 %\n",
            "--------------------\n"
          ]
        },
        {
          "output_type": "stream",
          "name": "stderr",
          "text": [
            "100%|██████████| 600/600 [00:22<00:00, 27.07it/s]\n"
          ]
        },
        {
          "output_type": "stream",
          "name": "stdout",
          "text": [
            "--------------------\n",
            "FOLD- 3\n",
            "[np.float64(57399.0), 1, 0]\n",
            "[np.float64(59933.0), 2, 2]\n",
            "[np.float64(60001.0), 1, 2]\n",
            "[np.float64(60333.0), 2, 2]\n",
            "[np.float64(61933.0), 2, 2]\n",
            "[np.float64(62496.0), 2, 2]\n",
            "[np.float64(62565.0), 1, 2]\n",
            "[np.float64(62982.0), 1, 2]\n",
            "[np.float64(63005.0), 2, 1]\n",
            "[np.float64(64032.0), 1, 2]\n",
            "[np.float64(64101.0), 2, 1]\n",
            "[np.float64(64148.0), 2, 2]\n",
            "[np.float64(64386.0), 2, 1]\n",
            "Accuracy:  38.46153846153847 %\n",
            "--------------------\n"
          ]
        },
        {
          "output_type": "stream",
          "name": "stderr",
          "text": [
            "100%|██████████| 600/600 [00:23<00:00, 25.86it/s]\n"
          ]
        },
        {
          "output_type": "stream",
          "name": "stdout",
          "text": [
            "--------------------\n",
            "FOLD- 4\n",
            "[np.float64(58763.0), 1, 1]\n",
            "[np.float64(59191.0), 1, 1]\n",
            "[np.float64(59991.0), 1, 2]\n",
            "[np.float64(61429.0), 1, 2]\n",
            "[np.float64(62498.0), 1, 1]\n",
            "[np.float64(63654.0), 0, 2]\n",
            "[np.float64(64405.0), 1, 1]\n",
            "[np.float64(64889.0), 1, 2]\n",
            "[np.float64(64973.0), 2, 2]\n",
            "[np.float64(65404.0), 2, 2]\n",
            "[np.float64(65464.0), 0, 1]\n",
            "[np.float64(65701.0), 2, 1]\n",
            "[np.float64(65789.0), 1, 1]\n",
            "Accuracy:  53.84615384615385 %\n",
            "--------------------\n"
          ]
        },
        {
          "output_type": "stream",
          "name": "stderr",
          "text": [
            "100%|██████████| 600/600 [00:23<00:00, 25.27it/s]\n"
          ]
        },
        {
          "output_type": "stream",
          "name": "stdout",
          "text": [
            "--------------------\n",
            "FOLD- 5\n",
            "[np.float64(51929.0), 1, 1]\n",
            "[np.float64(58374.0), 1, 2]\n",
            "[np.float64(58582.0), 2, 1]\n",
            "[np.float64(58822.0), 1, 1]\n",
            "[np.float64(59031.0), 1, 1]\n",
            "[np.float64(59036.0), 2, 2]\n",
            "[np.float64(59695.0), 2, 1]\n",
            "[np.float64(59746.0), 2, 1]\n",
            "[np.float64(59820.0), 2, 2]\n",
            "[np.float64(60002.0), 1, 1]\n",
            "[np.float64(60324.0), 1, 2]\n",
            "[np.float64(60856.0), 1, 1]\n",
            "[np.float64(60968.0), 2, 2]\n",
            "Accuracy:  61.53846153846154 %\n",
            "--------------------\n",
            "-------\n",
            "---------- for Neigbour=15 ----------\n"
          ]
        },
        {
          "output_type": "stream",
          "name": "stderr",
          "text": [
            "100%|██████████| 600/600 [00:23<00:00, 25.57it/s]\n"
          ]
        },
        {
          "output_type": "stream",
          "name": "stdout",
          "text": [
            "--------------------\n",
            "FOLD- 1\n",
            "[np.float64(55161.0), 2, 2]\n",
            "[np.float64(57327.0), 0, 2]\n",
            "[np.float64(58125.0), 1, 2]\n",
            "[np.float64(58706.0), 2, 1]\n",
            "[np.float64(59253.0), 0, 2]\n",
            "[np.float64(60075.0), 1, 1]\n",
            "[np.float64(60266.0), 2, 1]\n",
            "[np.float64(60345.0), 1, 2]\n",
            "[np.float64(60490.0), 2, 2]\n",
            "[np.float64(60931.0), 2, 1]\n",
            "[np.float64(60976.0), 0, 1]\n",
            "[np.float64(61041.0), 2, 1]\n",
            "[np.float64(61344.0), 2, 1]\n",
            "[np.float64(61725.0), 2, 1]\n",
            "[np.float64(62049.0), 2, 1]\n",
            "Accuracy:  20.0 %\n",
            "--------------------\n"
          ]
        },
        {
          "output_type": "stream",
          "name": "stderr",
          "text": [
            "100%|██████████| 600/600 [00:23<00:00, 25.56it/s]\n"
          ]
        },
        {
          "output_type": "stream",
          "name": "stdout",
          "text": [
            "--------------------\n",
            "FOLD- 2\n",
            "[np.float64(42569.0), 1, 2]\n",
            "[np.float64(44548.0), 0, 2]\n",
            "[np.float64(46600.0), 2, 2]\n",
            "[np.float64(46672.0), 0, 2]\n",
            "[np.float64(48476.0), 2, 1]\n",
            "[np.float64(52330.0), 2, 2]\n",
            "[np.float64(55405.0), 1, 1]\n",
            "[np.float64(55762.0), 1, 1]\n",
            "[np.float64(55779.0), 0, 2]\n",
            "[np.float64(57522.0), 1, 2]\n",
            "[np.float64(57771.0), 1, 1]\n",
            "[np.float64(58173.0), 0, 2]\n",
            "[np.float64(58249.0), 1, 2]\n",
            "[np.float64(58490.0), 1, 2]\n",
            "[np.float64(58718.0), 1, 2]\n",
            "Accuracy:  33.33333333333333 %\n",
            "--------------------\n"
          ]
        },
        {
          "output_type": "stream",
          "name": "stderr",
          "text": [
            "100%|██████████| 600/600 [00:22<00:00, 26.46it/s]\n"
          ]
        },
        {
          "output_type": "stream",
          "name": "stdout",
          "text": [
            "--------------------\n",
            "FOLD- 3\n",
            "[np.float64(57399.0), 1, 0]\n",
            "[np.float64(59933.0), 2, 2]\n",
            "[np.float64(60001.0), 1, 2]\n",
            "[np.float64(60333.0), 2, 2]\n",
            "[np.float64(61933.0), 2, 2]\n",
            "[np.float64(62496.0), 2, 2]\n",
            "[np.float64(62565.0), 1, 2]\n",
            "[np.float64(62982.0), 1, 2]\n",
            "[np.float64(63005.0), 2, 1]\n",
            "[np.float64(64032.0), 1, 2]\n",
            "[np.float64(64101.0), 2, 1]\n",
            "[np.float64(64148.0), 2, 2]\n",
            "[np.float64(64386.0), 2, 1]\n",
            "[np.float64(64520.0), 2, 2]\n",
            "[np.float64(64619.0), 2, 2]\n",
            "Accuracy:  46.666666666666664 %\n",
            "--------------------\n"
          ]
        },
        {
          "output_type": "stream",
          "name": "stderr",
          "text": [
            "100%|██████████| 600/600 [00:22<00:00, 26.90it/s]\n"
          ]
        },
        {
          "output_type": "stream",
          "name": "stdout",
          "text": [
            "--------------------\n",
            "FOLD- 4\n",
            "[np.float64(58763.0), 1, 1]\n",
            "[np.float64(59191.0), 1, 1]\n",
            "[np.float64(59991.0), 1, 2]\n",
            "[np.float64(61429.0), 1, 2]\n",
            "[np.float64(62498.0), 1, 1]\n",
            "[np.float64(63654.0), 0, 2]\n",
            "[np.float64(64405.0), 1, 1]\n",
            "[np.float64(64889.0), 1, 2]\n",
            "[np.float64(64973.0), 2, 2]\n",
            "[np.float64(65404.0), 2, 2]\n",
            "[np.float64(65464.0), 0, 1]\n",
            "[np.float64(65701.0), 2, 1]\n",
            "[np.float64(65789.0), 1, 1]\n",
            "[np.float64(66033.0), 2, 1]\n",
            "[np.float64(66125.0), 2, 2]\n",
            "Accuracy:  53.333333333333336 %\n",
            "--------------------\n"
          ]
        },
        {
          "output_type": "stream",
          "name": "stderr",
          "text": [
            "100%|██████████| 600/600 [00:24<00:00, 24.29it/s]\n"
          ]
        },
        {
          "output_type": "stream",
          "name": "stdout",
          "text": [
            "--------------------\n",
            "FOLD- 5\n",
            "[np.float64(51929.0), 1, 1]\n",
            "[np.float64(58374.0), 1, 2]\n",
            "[np.float64(58582.0), 2, 1]\n",
            "[np.float64(58822.0), 1, 1]\n",
            "[np.float64(59031.0), 1, 1]\n",
            "[np.float64(59036.0), 2, 2]\n",
            "[np.float64(59695.0), 2, 1]\n",
            "[np.float64(59746.0), 2, 1]\n",
            "[np.float64(59820.0), 2, 2]\n",
            "[np.float64(60002.0), 1, 1]\n",
            "[np.float64(60324.0), 1, 2]\n",
            "[np.float64(60856.0), 1, 1]\n",
            "[np.float64(60968.0), 2, 2]\n",
            "[np.float64(61041.0), 1, 2]\n",
            "[np.float64(61175.0), 1, 1]\n",
            "Accuracy:  60.0 %\n",
            "--------------------\n",
            "-------\n",
            "---------- for Neigbour=20 ----------\n"
          ]
        },
        {
          "output_type": "stream",
          "name": "stderr",
          "text": [
            "100%|██████████| 600/600 [00:23<00:00, 25.16it/s]\n"
          ]
        },
        {
          "output_type": "stream",
          "name": "stdout",
          "text": [
            "--------------------\n",
            "FOLD- 1\n",
            "[np.float64(55161.0), 2, 2]\n",
            "[np.float64(57327.0), 0, 2]\n",
            "[np.float64(58125.0), 1, 2]\n",
            "[np.float64(58706.0), 2, 1]\n",
            "[np.float64(59253.0), 0, 2]\n",
            "[np.float64(60075.0), 1, 1]\n",
            "[np.float64(60266.0), 2, 1]\n",
            "[np.float64(60345.0), 1, 2]\n",
            "[np.float64(60490.0), 2, 2]\n",
            "[np.float64(60931.0), 2, 1]\n",
            "[np.float64(60976.0), 0, 1]\n",
            "[np.float64(61041.0), 2, 1]\n",
            "[np.float64(61344.0), 2, 1]\n",
            "[np.float64(61725.0), 2, 1]\n",
            "[np.float64(62049.0), 2, 1]\n",
            "[np.float64(62088.0), 2, 2]\n",
            "[np.float64(62124.0), 0, 1]\n",
            "[np.float64(62340.0), 2, 1]\n",
            "[np.float64(62384.0), 0, 2]\n",
            "[np.float64(62481.0), 1, 1]\n",
            "Accuracy:  25.0 %\n",
            "--------------------\n"
          ]
        },
        {
          "output_type": "stream",
          "name": "stderr",
          "text": [
            "100%|██████████| 600/600 [00:23<00:00, 25.31it/s]\n"
          ]
        },
        {
          "output_type": "stream",
          "name": "stdout",
          "text": [
            "--------------------\n",
            "FOLD- 2\n",
            "[np.float64(42569.0), 1, 2]\n",
            "[np.float64(44548.0), 0, 2]\n",
            "[np.float64(46600.0), 2, 2]\n",
            "[np.float64(46672.0), 0, 2]\n",
            "[np.float64(48476.0), 2, 1]\n",
            "[np.float64(52330.0), 2, 2]\n",
            "[np.float64(55405.0), 1, 1]\n",
            "[np.float64(55762.0), 1, 1]\n",
            "[np.float64(55779.0), 0, 2]\n",
            "[np.float64(57522.0), 1, 2]\n",
            "[np.float64(57771.0), 1, 1]\n",
            "[np.float64(58173.0), 0, 2]\n",
            "[np.float64(58249.0), 1, 2]\n",
            "[np.float64(58490.0), 1, 2]\n",
            "[np.float64(58718.0), 1, 2]\n",
            "[np.float64(58913.0), 2, 1]\n",
            "[np.float64(58950.0), 2, 2]\n",
            "[np.float64(58966.0), 1, 2]\n",
            "[np.float64(59133.0), 2, 2]\n",
            "[np.float64(59245.0), 0, 2]\n",
            "Accuracy:  35.0 %\n",
            "--------------------\n"
          ]
        },
        {
          "output_type": "stream",
          "name": "stderr",
          "text": [
            "100%|██████████| 600/600 [00:24<00:00, 24.42it/s]\n"
          ]
        },
        {
          "output_type": "stream",
          "name": "stdout",
          "text": [
            "--------------------\n",
            "FOLD- 3\n",
            "[np.float64(57399.0), 1, 0]\n",
            "[np.float64(59933.0), 2, 2]\n",
            "[np.float64(60001.0), 1, 2]\n",
            "[np.float64(60333.0), 2, 2]\n",
            "[np.float64(61933.0), 2, 2]\n",
            "[np.float64(62496.0), 2, 2]\n",
            "[np.float64(62565.0), 1, 2]\n",
            "[np.float64(62982.0), 1, 2]\n",
            "[np.float64(63005.0), 2, 1]\n",
            "[np.float64(64032.0), 1, 2]\n",
            "[np.float64(64101.0), 2, 1]\n",
            "[np.float64(64148.0), 2, 2]\n",
            "[np.float64(64386.0), 2, 1]\n",
            "[np.float64(64520.0), 2, 2]\n",
            "[np.float64(64619.0), 2, 2]\n",
            "[np.float64(64656.0), 1, 2]\n",
            "[np.float64(64663.0), 2, 2]\n",
            "[np.float64(64700.0), 2, 1]\n",
            "[np.float64(64835.0), 1, 1]\n",
            "[np.float64(65247.0), 2, 2]\n",
            "Accuracy:  50.0 %\n",
            "--------------------\n"
          ]
        },
        {
          "output_type": "stream",
          "name": "stderr",
          "text": [
            "100%|██████████| 600/600 [00:22<00:00, 26.30it/s]\n"
          ]
        },
        {
          "output_type": "stream",
          "name": "stdout",
          "text": [
            "--------------------\n",
            "FOLD- 4\n",
            "[np.float64(58763.0), 1, 1]\n",
            "[np.float64(59191.0), 1, 1]\n",
            "[np.float64(59991.0), 1, 2]\n",
            "[np.float64(61429.0), 1, 2]\n",
            "[np.float64(62498.0), 1, 1]\n",
            "[np.float64(63654.0), 0, 2]\n",
            "[np.float64(64405.0), 1, 1]\n",
            "[np.float64(64889.0), 1, 2]\n",
            "[np.float64(64973.0), 2, 2]\n",
            "[np.float64(65404.0), 2, 2]\n",
            "[np.float64(65464.0), 0, 1]\n",
            "[np.float64(65701.0), 2, 1]\n",
            "[np.float64(65789.0), 1, 1]\n",
            "[np.float64(66033.0), 2, 1]\n",
            "[np.float64(66125.0), 2, 2]\n",
            "[np.float64(66395.0), 1, 2]\n",
            "[np.float64(66434.0), 2, 2]\n",
            "[np.float64(66677.0), 2, 2]\n",
            "[np.float64(66946.0), 2, 1]\n",
            "[np.float64(67119.0), 1, 1]\n",
            "Accuracy:  55.00000000000001 %\n",
            "--------------------\n"
          ]
        },
        {
          "output_type": "stream",
          "name": "stderr",
          "text": [
            "100%|██████████| 600/600 [00:21<00:00, 27.39it/s]\n"
          ]
        },
        {
          "output_type": "stream",
          "name": "stdout",
          "text": [
            "--------------------\n",
            "FOLD- 5\n",
            "[np.float64(51929.0), 1, 1]\n",
            "[np.float64(58374.0), 1, 2]\n",
            "[np.float64(58582.0), 2, 1]\n",
            "[np.float64(58822.0), 1, 1]\n",
            "[np.float64(59031.0), 1, 1]\n",
            "[np.float64(59036.0), 2, 2]\n",
            "[np.float64(59695.0), 2, 1]\n",
            "[np.float64(59746.0), 2, 1]\n",
            "[np.float64(59820.0), 2, 2]\n",
            "[np.float64(60002.0), 1, 1]\n",
            "[np.float64(60324.0), 1, 2]\n",
            "[np.float64(60856.0), 1, 1]\n",
            "[np.float64(60968.0), 2, 2]\n",
            "[np.float64(61041.0), 1, 2]\n",
            "[np.float64(61175.0), 1, 1]\n",
            "[np.float64(61543.0), 2, 1]\n",
            "[np.float64(61674.0), 1, 2]\n",
            "[np.float64(61732.0), 2, 2]\n",
            "[np.float64(61844.0), 1, 2]\n",
            "[np.float64(62058.0), 2, 2]\n",
            "Accuracy:  55.00000000000001 %\n",
            "--------------------\n",
            "-------\n",
            "---------- for Neigbour=25 ----------\n"
          ]
        },
        {
          "output_type": "stream",
          "name": "stderr",
          "text": [
            "100%|██████████| 600/600 [00:22<00:00, 26.33it/s]\n"
          ]
        },
        {
          "output_type": "stream",
          "name": "stdout",
          "text": [
            "--------------------\n",
            "FOLD- 1\n",
            "[np.float64(55161.0), 2, 2]\n",
            "[np.float64(57327.0), 0, 2]\n",
            "[np.float64(58125.0), 1, 2]\n",
            "[np.float64(58706.0), 2, 1]\n",
            "[np.float64(59253.0), 0, 2]\n",
            "[np.float64(60075.0), 1, 1]\n",
            "[np.float64(60266.0), 2, 1]\n",
            "[np.float64(60345.0), 1, 2]\n",
            "[np.float64(60490.0), 2, 2]\n",
            "[np.float64(60931.0), 2, 1]\n",
            "[np.float64(60976.0), 0, 1]\n",
            "[np.float64(61041.0), 2, 1]\n",
            "[np.float64(61344.0), 2, 1]\n",
            "[np.float64(61725.0), 2, 1]\n",
            "[np.float64(62049.0), 2, 1]\n",
            "[np.float64(62088.0), 2, 2]\n",
            "[np.float64(62124.0), 0, 1]\n",
            "[np.float64(62340.0), 2, 1]\n",
            "[np.float64(62384.0), 0, 2]\n",
            "[np.float64(62481.0), 1, 1]\n",
            "[np.float64(62518.0), 1, 2]\n",
            "[np.float64(63144.0), 2, 2]\n",
            "[np.float64(63295.0), 2, 0]\n",
            "[np.float64(63403.0), 2, 1]\n",
            "[np.float64(63638.0), 1, 1]\n",
            "Accuracy:  28.000000000000004 %\n",
            "--------------------\n"
          ]
        },
        {
          "output_type": "stream",
          "name": "stderr",
          "text": [
            "100%|██████████| 600/600 [00:23<00:00, 25.06it/s]\n"
          ]
        },
        {
          "output_type": "stream",
          "name": "stdout",
          "text": [
            "--------------------\n",
            "FOLD- 2\n",
            "[np.float64(42569.0), 1, 2]\n",
            "[np.float64(44548.0), 0, 2]\n",
            "[np.float64(46600.0), 2, 2]\n",
            "[np.float64(46672.0), 0, 2]\n",
            "[np.float64(48476.0), 2, 1]\n",
            "[np.float64(52330.0), 2, 2]\n",
            "[np.float64(55405.0), 1, 1]\n",
            "[np.float64(55762.0), 1, 1]\n",
            "[np.float64(55779.0), 0, 2]\n",
            "[np.float64(57522.0), 1, 2]\n",
            "[np.float64(57771.0), 1, 1]\n",
            "[np.float64(58173.0), 0, 2]\n",
            "[np.float64(58249.0), 1, 2]\n",
            "[np.float64(58490.0), 1, 2]\n",
            "[np.float64(58718.0), 1, 2]\n",
            "[np.float64(58913.0), 2, 1]\n",
            "[np.float64(58950.0), 2, 2]\n",
            "[np.float64(58966.0), 1, 2]\n",
            "[np.float64(59133.0), 2, 2]\n",
            "[np.float64(59245.0), 0, 2]\n",
            "[np.float64(59424.0), 1, 1]\n",
            "[np.float64(59618.0), 1, 2]\n",
            "[np.float64(59971.0), 2, 2]\n",
            "[np.float64(60296.0), 0, 2]\n",
            "[np.float64(60404.0), 1, 2]\n",
            "Accuracy:  36.0 %\n",
            "--------------------\n"
          ]
        },
        {
          "output_type": "stream",
          "name": "stderr",
          "text": [
            "100%|██████████| 600/600 [00:24<00:00, 24.90it/s]\n"
          ]
        },
        {
          "output_type": "stream",
          "name": "stdout",
          "text": [
            "--------------------\n",
            "FOLD- 3\n",
            "[np.float64(57399.0), 1, 0]\n",
            "[np.float64(59933.0), 2, 2]\n",
            "[np.float64(60001.0), 1, 2]\n",
            "[np.float64(60333.0), 2, 2]\n",
            "[np.float64(61933.0), 2, 2]\n",
            "[np.float64(62496.0), 2, 2]\n",
            "[np.float64(62565.0), 1, 2]\n",
            "[np.float64(62982.0), 1, 2]\n",
            "[np.float64(63005.0), 2, 1]\n",
            "[np.float64(64032.0), 1, 2]\n",
            "[np.float64(64101.0), 2, 1]\n",
            "[np.float64(64148.0), 2, 2]\n",
            "[np.float64(64386.0), 2, 1]\n",
            "[np.float64(64520.0), 2, 2]\n",
            "[np.float64(64619.0), 2, 2]\n",
            "[np.float64(64656.0), 1, 2]\n",
            "[np.float64(64663.0), 2, 2]\n",
            "[np.float64(64700.0), 2, 1]\n",
            "[np.float64(64835.0), 1, 1]\n",
            "[np.float64(65247.0), 2, 2]\n",
            "[np.float64(65495.0), 2, 2]\n",
            "[np.float64(65838.0), 2, 0]\n",
            "[np.float64(65960.0), 1, 2]\n",
            "[np.float64(66226.0), 1, 2]\n",
            "[np.float64(66483.0), 1, 2]\n",
            "Accuracy:  44.0 %\n",
            "--------------------\n"
          ]
        },
        {
          "output_type": "stream",
          "name": "stderr",
          "text": [
            "100%|██████████| 600/600 [00:25<00:00, 23.32it/s]\n"
          ]
        },
        {
          "output_type": "stream",
          "name": "stdout",
          "text": [
            "--------------------\n",
            "FOLD- 4\n",
            "[np.float64(58763.0), 1, 1]\n",
            "[np.float64(59191.0), 1, 1]\n",
            "[np.float64(59991.0), 1, 2]\n",
            "[np.float64(61429.0), 1, 2]\n",
            "[np.float64(62498.0), 1, 1]\n",
            "[np.float64(63654.0), 0, 2]\n",
            "[np.float64(64405.0), 1, 1]\n",
            "[np.float64(64889.0), 1, 2]\n",
            "[np.float64(64973.0), 2, 2]\n",
            "[np.float64(65404.0), 2, 2]\n",
            "[np.float64(65464.0), 0, 1]\n",
            "[np.float64(65701.0), 2, 1]\n",
            "[np.float64(65789.0), 1, 1]\n",
            "[np.float64(66033.0), 2, 1]\n",
            "[np.float64(66125.0), 2, 2]\n",
            "[np.float64(66395.0), 1, 2]\n",
            "[np.float64(66434.0), 2, 2]\n",
            "[np.float64(66677.0), 2, 2]\n",
            "[np.float64(66946.0), 2, 1]\n",
            "[np.float64(67119.0), 1, 1]\n",
            "[np.float64(67345.0), 2, 1]\n",
            "[np.float64(67460.0), 1, 1]\n",
            "[np.float64(67559.0), 2, 2]\n",
            "[np.float64(67580.0), 1, 1]\n",
            "[np.float64(67773.0), 1, 2]\n",
            "Accuracy:  56.00000000000001 %\n",
            "--------------------\n"
          ]
        },
        {
          "output_type": "stream",
          "name": "stderr",
          "text": [
            "100%|██████████| 600/600 [00:23<00:00, 25.05it/s]\n"
          ]
        },
        {
          "output_type": "stream",
          "name": "stdout",
          "text": [
            "--------------------\n",
            "FOLD- 5\n",
            "[np.float64(51929.0), 1, 1]\n",
            "[np.float64(58374.0), 1, 2]\n",
            "[np.float64(58582.0), 2, 1]\n",
            "[np.float64(58822.0), 1, 1]\n",
            "[np.float64(59031.0), 1, 1]\n",
            "[np.float64(59036.0), 2, 2]\n",
            "[np.float64(59695.0), 2, 1]\n",
            "[np.float64(59746.0), 2, 1]\n",
            "[np.float64(59820.0), 2, 2]\n",
            "[np.float64(60002.0), 1, 1]\n",
            "[np.float64(60324.0), 1, 2]\n",
            "[np.float64(60856.0), 1, 1]\n",
            "[np.float64(60968.0), 2, 2]\n",
            "[np.float64(61041.0), 1, 2]\n",
            "[np.float64(61175.0), 1, 1]\n",
            "[np.float64(61543.0), 2, 1]\n",
            "[np.float64(61674.0), 1, 2]\n",
            "[np.float64(61732.0), 2, 2]\n",
            "[np.float64(61844.0), 1, 2]\n",
            "[np.float64(62058.0), 2, 2]\n",
            "[np.float64(62239.0), 1, 1]\n",
            "[np.float64(62306.0), 1, 1]\n",
            "[np.float64(62763.0), 2, 1]\n",
            "[np.float64(62812.0), 0, 1]\n",
            "[np.float64(63139.0), 1, 1]\n",
            "Accuracy:  56.00000000000001 %\n",
            "--------------------\n",
            "-------\n"
          ]
        }
      ],
      "source": [
        "random.shuffle(trained_data)\n",
        "K_nei=[3, 5, 9, 13, 15, 20,25]\n",
        "points=[]\n",
        "for i in K_nei:\n",
        "\n",
        "  print(\"-\"*10,f\"for Neigbour={i}\",\"-\"*10)\n",
        "  point=KFOLD(trained_data,kf=5,k_nei=i,L=2)\n",
        "  points.append(point)\n",
        "  print(\"-\"*7)\n",
        "\n",
        "\n",
        "\n"
      ]
    },
    {
      "cell_type": "code",
      "execution_count": 16,
      "metadata": {
        "id": "WR8Yu4LrQJ4a",
        "colab": {
          "base_uri": "https://localhost:8080/",
          "height": 581
        },
        "outputId": "3a11ccae-134d-4042-a6db-86581c9d3dd1"
      },
      "outputs": [
        {
          "output_type": "display_data",
          "data": {
            "text/plain": [
              "<Figure size 1000x600 with 1 Axes>"
            ],
            "image/png": "[encoded data removed]"
          },
          "metadata": {}
        },
        {
          "output_type": "stream",
          "name": "stdout",
          "text": [
            "[3, 5, 9, 13, 15, 20, 25]\n"
          ]
        }
      ],
      "source": [
        "result_dict2 = {}\n",
        "middle_point2=[]\n",
        "\n",
        "for item in points:\n",
        "    result_dict2.update(item)\n",
        "\n",
        "colors = ['r', 'g', 'b', 'c', 'm', 'y', 'k']\n",
        "plt.figure(figsize=(10,6))\n",
        "plt.title(\"Cross Validation on k\")\n",
        "plt.ylabel(\"Cross-Validation Accuracy\")\n",
        "plt.xlabel(\"Values of Hyper Parameter(k in KNN)\")\n",
        "for idx2,(key,values) in  enumerate(result_dict2.items()):\n",
        "  avg=np.sum(values)/len(values)\n",
        "  middle_point2.append(avg)\n",
        "  x_values = [key] * len(values)\n",
        "  plt.plot(x_values, values, marker='o', color=random.choice(colors), linestyle='-')\n",
        "\n",
        "  for idx,val in enumerate(values):\n",
        "      plt.plot(key,val,marker='o',color=colors[idx],linestyle='-')\n",
        "\n",
        "plt.plot(K_nei,middle_point2,marker='o',color='g',linestyle='-')\n",
        "plt.show()\n",
        "print(K_nei)"
      ]
    },
    {
      "cell_type": "code",
      "source": [
        "print(middle_point2)\n",
        "print(\"Average Accuracy for L2:\",np.sum(middle_point2)/len(middle_point2))\n",
        "print(middle_point2)\n",
        "print(\"Average Accuracy for L1:\",np.sum(middle_point)/len(middle_point))\n"
      ],
      "metadata": {
        "colab": {
          "base_uri": "https://localhost:8080/"
        },
        "id": "srygZ-7Oh5f5",
        "outputId": "0e1c8124-024b-44fd-a7c4-eed83cddab34"
      },
      "execution_count": 17,
      "outputs": [
        {
          "output_type": "stream",
          "name": "stdout",
          "text": [
            "[np.float64(0.39999999999999997), np.float64(0.44000000000000006), np.float64(0.4666666666666666), np.float64(0.43076923076923074), np.float64(0.42666666666666664), np.float64(0.44000000000000006), np.float64(0.44000000000000006)]\n",
            "Average Accuracy for L2: 0.43487179487179484\n",
            "[np.float64(0.39999999999999997), np.float64(0.44000000000000006), np.float64(0.4666666666666666), np.float64(0.43076923076923074), np.float64(0.42666666666666664), np.float64(0.44000000000000006), np.float64(0.44000000000000006)]\n",
            "Average Accuracy for L1: 0.31630525030525025\n"
          ]
        }
      ]
    },
    {
      "cell_type": "code",
      "source": [
        "TEST_DIR=\"/content/drive/MyDrive/input/animal-image-datasetdog-cat-and-panda/images\"\n",
        "catag2=load_image(TEST_DIR)\n",
        "test2=get_trained_data(catag2,TEST_DIR)\n",
        "random.shuffle(test2)\n",
        "\n"
      ],
      "metadata": {
        "colab": {
          "base_uri": "https://localhost:8080/"
        },
        "id": "wvt8vBKidKEC",
        "outputId": "a88f27d3-f883-4568-d1d8-e8b8a86980f4"
      },
      "execution_count": 25,
      "outputs": [
        {
          "output_type": "stream",
          "name": "stderr",
          "text": [
            "100%|██████████| 1/1 [00:00<00:00, 98.83it/s]\n",
            "100%|██████████| 1/1 [00:00<00:00, 71.10it/s]\n",
            "100%|██████████| 1/1 [00:00<00:00, 88.99it/s]\n"
          ]
        }
      ]
    },
    {
      "cell_type": "code",
      "source": [
        "random.shuffle(test2)\n",
        "def top5pred(test,trained,L=1,catag=catag2):\n",
        "  right=0\n",
        "  pred=KNN(test,trained,L=1)\n",
        "  for p in pred:\n",
        "    show_image(p[3],catag[p[1]])\n",
        "    if p[2] ==p[1]:\n",
        "      right+=1\n",
        "  accuracy=right/len(test)\n",
        "  print('-'*3,f'Accuracy:{accuracy*100} %')\n",
        "\n",
        "\n",
        "\n"
      ],
      "metadata": {
        "id": "de9PgKVLhL54"
      },
      "execution_count": 26,
      "outputs": []
    },
    {
      "cell_type": "code",
      "source": [
        "top5pred(test2,trained_data,1)"
      ],
      "metadata": {
        "colab": {
          "base_uri": "https://localhost:8080/",
          "height": 1000
        },
        "id": "SE6RJoUwgdmQ",
        "outputId": "e944ab70-0cf4-4efd-89ce-94e9d6ba198a"
      },
      "execution_count": 31,
      "outputs": [
        {
          "output_type": "stream",
          "name": "stderr",
          "text": [
            "100%|██████████| 3/3 [00:00<00:00, 32.54it/s]\n"
          ]
        },
        {
          "output_type": "display_data",
          "data": {
            "text/plain": [
              "<Figure size 640x480 with 1 Axes>"
            ],
            "image/png": "[encoded data removed]"
          },
          "metadata": {}
        },
        {
          "output_type": "display_data",
          "data": {
            "text/plain": [
              "<Figure size 640x480 with 1 Axes>"
            ],
            "image/png": "[encoded data removed]"
          },
          "metadata": {}
        },
        {
          "output_type": "display_data",
          "data": {
            "text/plain": [
              "<Figure size 640x480 with 1 Axes>"
            ],
            "image/png": "[encoded data removed]"
          },
          "metadata": {}
        },
        {
          "output_type": "display_data",
          "data": {
            "text/plain": [
              "<Figure size 640x480 with 1 Axes>"
            ],
            "image/png": "[encoded data removed]"
          },
          "metadata": {}
        },
        {
          "output_type": "display_data",
          "data": {
            "text/plain": [
              "<Figure size 640x480 with 1 Axes>"
            ],
            "image/png": "[encoded data removed]"
          },
          "metadata": {}
        },
        {
          "output_type": "stream",
          "name": "stdout",
          "text": [
            "--- Accuracy:66.66666666666666 %\n"
          ]
        }
      ]
    },
    {
      "cell_type": "markdown",
      "source": [
        "# **Which one is Better between Manhattan (L1) and Euclidean (L2) Distances ?**\n",
        "As the images are represented as vectors in a high-dimensional space, Euclidean distance is often preferred because it captures the overall similarity between the vectors.\n",
        " Manhattan distance might perform better in cases where the image features are sparse or want to reduce the impact of outliers.\n",
        "\n",
        " For this particular dataset,\n",
        "\n",
        " ** L2 distance performs better than L1 distance.**\n",
        "\n",
        "\n",
        "\n",
        "\n",
        "\n",
        "\n",
        "\n"
      ],
      "metadata": {
        "id": "TRvgd5yKpDxx"
      }
    },
    {
      "cell_type": "markdown",
      "source": [
        "**Limitations:**\n",
        "Rotation, Scaling, and Translation: Image classification models can struggle with variations in object orientation, size, and position, leading to misclassification.\n",
        "Lighting and Color Variations: Changes in lighting, shadows, and color can significantly affect the model's performance, as it may not recognize the same object under different conditions."
      ],
      "metadata": {
        "id": "LozWzfR2u_GB"
      }
    },
    {
      "cell_type": "markdown",
      "source": [
        "# **Improvements:**\n",
        "**Data Augmentation:**\n",
        "\n",
        "Apply transformations like rotation, flipping, and scaling to increase the diversity of training data, helping the model generalize better to real-world variations.\n",
        "\n",
        "**Transfer Learning:**\n",
        "Use pre-trained models on large datasets and fine-tune them on the specific target dataset to improve performance, especially with limited data.\n",
        "\n",
        "**Regularization Techniques:**\n",
        "Implement dropout, L1/L2 regularization, and early stopping to prevent overfitting and enhance the model's generalization capabilities.\n",
        "\n",
        "**Class Imbalance Handling:**\n",
        "Address class imbalance by oversampling minority classes, undersampling majority classes, or using class-weighted loss functions to improve accuracy across all classes.\n",
        "\n",
        "**Incorporate Attention Mechanisms:**\n",
        "Integrate attention mechanisms to help the model focus on the most relevant parts of the image, leading to more accurate classifications."
      ],
      "metadata": {
        "id": "g_LVviBOwI6g"
      }
    },
    {
      "cell_type": "code",
      "source": [],
      "metadata": {
        "id": "v-2TKo5lwr9G"
      },
      "execution_count": null,
      "outputs": []
    }
  ],
  "metadata": {
    "colab": {
      "provenance": []
    },
    "kernelspec": {
      "display_name": "Python 3",
      "name": "python3"
    },
    "language_info": {
      "name": "python"
    }
  },
  "nbformat": 4,
  "nbformat_minor": 0
}